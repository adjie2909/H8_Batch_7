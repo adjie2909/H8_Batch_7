{
 "cells": [
  {
   "cell_type": "markdown",
   "id": "ae22cf6f",
   "metadata": {},
   "source": [
    "Tipe Data"
   ]
  },
  {
   "cell_type": "code",
   "execution_count": 1,
   "id": "574c3a1e",
   "metadata": {},
   "outputs": [
    {
     "name": "stdout",
     "output_type": "stream",
     "text": [
      "123124\n"
     ]
    }
   ],
   "source": [
    "print (123123+1)"
   ]
  },
  {
   "cell_type": "code",
   "execution_count": 2,
   "id": "f18a9485",
   "metadata": {},
   "outputs": [
    {
     "name": "stdout",
     "output_type": "stream",
     "text": [
      "<class 'int'>\n"
     ]
    }
   ],
   "source": [
    "print (type(10))"
   ]
  },
  {
   "cell_type": "code",
   "execution_count": 3,
   "id": "ca9176a8",
   "metadata": {},
   "outputs": [
    {
     "name": "stdout",
     "output_type": "stream",
     "text": [
      "<class 'float'>\n"
     ]
    }
   ],
   "source": [
    "print (type(10.0))"
   ]
  },
  {
   "cell_type": "code",
   "execution_count": 4,
   "id": "85cc6731",
   "metadata": {},
   "outputs": [
    {
     "name": "stdout",
     "output_type": "stream",
     "text": [
      "hacktiv8\n",
      "<class 'str'>\n"
     ]
    }
   ],
   "source": [
    "print ('hacktiv8')\n",
    "print (type('hacktiv8'))"
   ]
  },
  {
   "cell_type": "code",
   "execution_count": 5,
   "id": "a74a8510",
   "metadata": {},
   "outputs": [
    {
     "name": "stdout",
     "output_type": "stream",
     "text": [
      "<class 'str'>\n"
     ]
    }
   ],
   "source": [
    "print (type('10'))"
   ]
  },
  {
   "cell_type": "code",
   "execution_count": 6,
   "id": "8ebcca7e",
   "metadata": {},
   "outputs": [
    {
     "name": "stdout",
     "output_type": "stream",
     "text": [
      "<class 'str'>\n"
     ]
    }
   ],
   "source": [
    "print (type(\"false\"))"
   ]
  },
  {
   "cell_type": "code",
   "execution_count": 8,
   "id": "cd41f3c4",
   "metadata": {},
   "outputs": [
    {
     "name": "stdout",
     "output_type": "stream",
     "text": [
      "<class 'bool'>\n"
     ]
    }
   ],
   "source": [
    "print (type(False))"
   ]
  },
  {
   "cell_type": "markdown",
   "id": "35b1a8fc",
   "metadata": {},
   "source": [
    "Variabel Assignment"
   ]
  },
  {
   "cell_type": "code",
   "execution_count": 9,
   "id": "369a6914",
   "metadata": {},
   "outputs": [],
   "source": [
    "n = 330"
   ]
  },
  {
   "cell_type": "code",
   "execution_count": 10,
   "id": "5456bb5a",
   "metadata": {},
   "outputs": [
    {
     "name": "stdout",
     "output_type": "stream",
     "text": [
      "330\n"
     ]
    }
   ],
   "source": [
    "print (n)"
   ]
  },
  {
   "cell_type": "code",
   "execution_count": 14,
   "id": "7df5b2cf",
   "metadata": {},
   "outputs": [],
   "source": [
    "a = b = c = 200"
   ]
  },
  {
   "cell_type": "code",
   "execution_count": 15,
   "id": "0e3b4cee",
   "metadata": {},
   "outputs": [
    {
     "name": "stdout",
     "output_type": "stream",
     "text": [
      "200 200 200\n"
     ]
    }
   ],
   "source": [
    "print (a,b,c)"
   ]
  },
  {
   "cell_type": "code",
   "execution_count": 19,
   "id": "fc3a8957",
   "metadata": {},
   "outputs": [
    {
     "name": "stdout",
     "output_type": "stream",
     "text": [
      "(6, 8, 10, 12, 14)\n"
     ]
    }
   ],
   "source": [
    "x = (2,4,6,8,10,12,14,16,18)\n",
    "print (x[2:7])"
   ]
  },
  {
   "cell_type": "markdown",
   "id": "62e88d91",
   "metadata": {},
   "source": [
    "List Python"
   ]
  },
  {
   "cell_type": "code",
   "execution_count": 20,
   "id": "8c55fbf6",
   "metadata": {},
   "outputs": [],
   "source": [
    "a=['foo','bar','baz','qux']"
   ]
  },
  {
   "cell_type": "code",
   "execution_count": 21,
   "id": "e279fce8",
   "metadata": {},
   "outputs": [
    {
     "data": {
      "text/plain": [
       "['foo', 'bar', 'baz', 'qux']"
      ]
     },
     "execution_count": 21,
     "metadata": {},
     "output_type": "execute_result"
    }
   ],
   "source": [
    "a"
   ]
  },
  {
   "cell_type": "code",
   "execution_count": 22,
   "id": "5581bca0",
   "metadata": {},
   "outputs": [
    {
     "data": {
      "text/plain": [
       "'foo'"
      ]
     },
     "execution_count": 22,
     "metadata": {},
     "output_type": "execute_result"
    }
   ],
   "source": [
    "a[0]"
   ]
  },
  {
   "cell_type": "code",
   "execution_count": 23,
   "id": "ef200e03",
   "metadata": {},
   "outputs": [
    {
     "data": {
      "text/plain": [
       "'bar'"
      ]
     },
     "execution_count": 23,
     "metadata": {},
     "output_type": "execute_result"
    }
   ],
   "source": [
    "a[1]"
   ]
  },
  {
   "cell_type": "code",
   "execution_count": 24,
   "id": "4f23e10d",
   "metadata": {},
   "outputs": [
    {
     "data": {
      "text/plain": [
       "'baz'"
      ]
     },
     "execution_count": 24,
     "metadata": {},
     "output_type": "execute_result"
    }
   ],
   "source": [
    "a[2]"
   ]
  },
  {
   "cell_type": "code",
   "execution_count": 25,
   "id": "97e3ee30",
   "metadata": {},
   "outputs": [
    {
     "data": {
      "text/plain": [
       "'qux'"
      ]
     },
     "execution_count": 25,
     "metadata": {},
     "output_type": "execute_result"
    }
   ],
   "source": [
    "a[3]"
   ]
  },
  {
   "cell_type": "code",
   "execution_count": 29,
   "id": "7041dee8",
   "metadata": {},
   "outputs": [],
   "source": [
    "a=['foo','bar','baz','qux']\n",
    "b=['bar','foo','baz','qux']"
   ]
  },
  {
   "cell_type": "code",
   "execution_count": 30,
   "id": "c58f47ab",
   "metadata": {},
   "outputs": [
    {
     "data": {
      "text/plain": [
       "False"
      ]
     },
     "execution_count": 30,
     "metadata": {},
     "output_type": "execute_result"
    }
   ],
   "source": [
    "a==b"
   ]
  },
  {
   "cell_type": "markdown",
   "id": "e4ba110c",
   "metadata": {},
   "source": [
    "Tuple"
   ]
  },
  {
   "cell_type": "code",
   "execution_count": 31,
   "id": "7e7fea90",
   "metadata": {},
   "outputs": [
    {
     "name": "stdout",
     "output_type": "stream",
     "text": [
      "('foo', 'bar', 'baz', 'qux')\n"
     ]
    }
   ],
   "source": [
    "t =('foo','bar','baz','qux')\n",
    "print (t)"
   ]
  },
  {
   "cell_type": "markdown",
   "id": "798f7ac2",
   "metadata": {},
   "source": [
    "Dictionary"
   ]
  },
  {
   "cell_type": "code",
   "execution_count": 34,
   "id": "1e39e9f3",
   "metadata": {},
   "outputs": [],
   "source": [
    "MLB_team={\n",
    "    'Colorado':'Rockies',\n",
    "    'Boston':'Red Fox',\n",
    "    'Minnesota':'Twins',\n",
    "    'Milwaukee':'Brewers',\n",
    "    'Seattle':'Mariners'\n",
    "}"
   ]
  },
  {
   "cell_type": "code",
   "execution_count": 35,
   "id": "91409b2d",
   "metadata": {},
   "outputs": [
    {
     "data": {
      "text/plain": [
       "{'Colorado': 'Rockies',\n",
       " 'Boston': 'Red Fox',\n",
       " 'Minnesota': 'Twins',\n",
       " 'Milwaukee': 'Brewers',\n",
       " 'Seattle': 'Mariners'}"
      ]
     },
     "execution_count": 35,
     "metadata": {},
     "output_type": "execute_result"
    }
   ],
   "source": [
    "MLB_team"
   ]
  },
  {
   "cell_type": "code",
   "execution_count": 38,
   "id": "2ca162f0",
   "metadata": {},
   "outputs": [
    {
     "data": {
      "text/plain": [
       "'Rockies'"
      ]
     },
     "execution_count": 38,
     "metadata": {},
     "output_type": "execute_result"
    }
   ],
   "source": [
    "MLB_team['Colorado']"
   ]
  },
  {
   "cell_type": "code",
   "execution_count": 40,
   "id": "7c9c1a7e",
   "metadata": {},
   "outputs": [],
   "source": [
    "MLB_team['kansas City']='Royals'"
   ]
  },
  {
   "cell_type": "code",
   "execution_count": null,
   "id": "b848039e",
   "metadata": {},
   "outputs": [],
   "source": []
  }
 ],
 "metadata": {
  "kernelspec": {
   "display_name": "Python 3 (ipykernel)",
   "language": "python",
   "name": "python3"
  },
  "language_info": {
   "codemirror_mode": {
    "name": "ipython",
    "version": 3
   },
   "file_extension": ".py",
   "mimetype": "text/x-python",
   "name": "python",
   "nbconvert_exporter": "python",
   "pygments_lexer": "ipython3",
   "version": "3.9.7"
  }
 },
 "nbformat": 4,
 "nbformat_minor": 5
}
