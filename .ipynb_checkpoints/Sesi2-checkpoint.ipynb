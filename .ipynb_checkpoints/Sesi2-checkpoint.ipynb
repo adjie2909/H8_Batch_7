{
 "cells": [
  {
   "cell_type": "code",
   "execution_count": null,
   "id": "6e0135e7",
   "metadata": {},
   "outputs": [],
   "source": [
    "if condition:\n",
    "    statement"
   ]
  },
  {
   "cell_type": "code",
   "execution_count": 13,
   "id": "f82188ce",
   "metadata": {},
   "outputs": [
    {
     "name": "stdout",
     "output_type": "stream",
     "text": [
      "no\n"
     ]
    }
   ],
   "source": [
    "x = 0\n",
    "y = 5\n",
    "\n",
    "if x<y:\n",
    "    print('no')"
   ]
  },
  {
   "cell_type": "code",
   "execution_count": 14,
   "id": "7215d2b5",
   "metadata": {},
   "outputs": [
    {
     "name": "stdout",
     "output_type": "stream",
     "text": [
      "yes\n"
     ]
    }
   ],
   "source": [
    "if x:\n",
    "    print('yes')"
   ]
  },
  {
   "cell_type": "code",
   "execution_count": 15,
   "id": "77c89135",
   "metadata": {},
   "outputs": [
    {
     "name": "stdout",
     "output_type": "stream",
     "text": [
      "yes\n",
      "another activity\n",
      "another activity 2\n",
      "another activity 3\n"
     ]
    }
   ],
   "source": [
    "if y:\n",
    "    print('yes')\n",
    "    print('another activity')\n",
    "    print('another activity 2')\n",
    "    print('another activity 3')"
   ]
  },
  {
   "cell_type": "code",
   "execution_count": 25,
   "id": "341b6830",
   "metadata": {},
   "outputs": [
    {
     "name": "stdout",
     "output_type": "stream",
     "text": [
      "Outer condition is true\n",
      "\n",
      "inner condition 2\n",
      "\n",
      "end of outer condition\n",
      "After outer condition\n"
     ]
    }
   ],
   "source": [
    "if 'foo' in ['foo','bar','baz']:\n",
    "    print('Outer condition is true')\n",
    "    \n",
    "print('')\n",
    "\n",
    "if 10 > 20:\n",
    "    print(\"inner condition 1\")\n",
    "else:\n",
    "    print(\"inner condition 2\")\n",
    "    \n",
    "print('')\n",
    "    \n",
    "print('end of outer condition')\n",
    "print('After outer condition')"
   ]
  },
  {
   "cell_type": "code",
   "execution_count": null,
   "id": "7b707316",
   "metadata": {},
   "outputs": [],
   "source": [
    "if condition:\n",
    "    statement\n",
    "else:\n",
    "    statement"
   ]
  },
  {
   "cell_type": "code",
   "execution_count": 28,
   "id": "48ceb39e",
   "metadata": {},
   "outputs": [
    {
     "name": "stdout",
     "output_type": "stream",
     "text": [
      "(second suite)\n",
      "large\n"
     ]
    }
   ],
   "source": [
    "x = 20\n",
    "\n",
    "if x>50:\n",
    "    print('(first suite)')\n",
    "    print('x is small')\n",
    "else:\n",
    "    print('(second suite)')\n",
    "    print('large')"
   ]
  },
  {
   "cell_type": "code",
   "execution_count": 37,
   "id": "1d27c4a6",
   "metadata": {},
   "outputs": [
    {
     "name": "stdout",
     "output_type": "stream",
     "text": [
      "Uang ndak cukup nich\n"
     ]
    }
   ],
   "source": [
    "HargaBuku = 30000\n",
    "HargaMajalah = 15000\n",
    "uang = 10000\n",
    "\n",
    "if uang > HargaBuku:\n",
    "    print('beli buku saja')\n",
    "else:\n",
    "    print('Uang ndak cukup nich')"
   ]
  },
  {
   "cell_type": "code",
   "execution_count": 38,
   "id": "31836ca4",
   "metadata": {},
   "outputs": [
    {
     "name": "stdout",
     "output_type": "stream",
     "text": [
      "beli buku saja\n"
     ]
    }
   ],
   "source": [
    "HargaBuku = 30000\n",
    "HargaMajalah = 15000\n",
    "uang = 450000\n",
    "\n",
    "if uang > HargaBuku:\n",
    "    print('beli buku saja')\n",
    "elif uang > HargaMajalah:\n",
    "    print('Beli majalah saja')\n",
    "else:\n",
    "    print('Uang ndak cukup nich')"
   ]
  },
  {
   "cell_type": "code",
   "execution_count": 42,
   "id": "c66e1d0b",
   "metadata": {},
   "outputs": [
    {
     "name": "stdout",
     "output_type": "stream",
     "text": [
      "hello hacktiv8\n"
     ]
    }
   ],
   "source": [
    "name = \"Hacktiv8\"\n",
    "\n",
    "if name == \"Fred\":\n",
    "    print('hello Fred')\n",
    "elif name == \"Xander\":\n",
    "    print('hello Xander')\n",
    "elif name == \"Hacktiv8\":\n",
    "    print('hello hacktiv8')\n",
    "elif name == \"Arnold\":\n",
    "    print('hello Arnold')\n",
    "else:\n",
    "    print(\"i don't know who you are!\")"
   ]
  },
  {
   "cell_type": "code",
   "execution_count": 48,
   "id": "24a98ef4",
   "metadata": {},
   "outputs": [
    {
     "name": "stdout",
     "output_type": "stream",
     "text": [
      "This will not happen\n"
     ]
    }
   ],
   "source": [
    "if 'x' in 'bar':\n",
    "    print ('foo')\n",
    "elif 1/10:\n",
    "    print('This will not happen')\n",
    "elif var:\n",
    "    print('this will not either')"
   ]
  },
  {
   "cell_type": "code",
   "execution_count": 49,
   "id": "7c768ce9",
   "metadata": {},
   "outputs": [
    {
     "name": "stdout",
     "output_type": "stream",
     "text": [
      "1\n",
      "2\n",
      "3\n"
     ]
    }
   ],
   "source": [
    "if 'f' in 'foo': print('1'); print('2'); print('3')"
   ]
  },
  {
   "cell_type": "code",
   "execution_count": 54,
   "id": "82254236",
   "metadata": {},
   "outputs": [],
   "source": [
    "if 'z' in 'foo': print('1'); print('2'); print('3')"
   ]
  },
  {
   "cell_type": "code",
   "execution_count": 57,
   "id": "3da86a4f",
   "metadata": {},
   "outputs": [
    {
     "name": "stdout",
     "output_type": "stream",
     "text": [
      "corge\n",
      "grault\n"
     ]
    }
   ],
   "source": [
    "x = 3\n",
    "if x == 1 : print('foo'); print('bar'); print('bax')\n",
    "elif x == 2 : print('qux'); print('quxx')\n",
    "else: print('corge'); print('grault')"
   ]
  },
  {
   "cell_type": "code",
   "execution_count": 58,
   "id": "b47a2204",
   "metadata": {},
   "outputs": [
    {
     "name": "stdout",
     "output_type": "stream",
     "text": [
      "corge\n",
      "grault\n"
     ]
    }
   ],
   "source": [
    "x = 3\n",
    "if x == 1 : \n",
    "    print('foo')\n",
    "    print('bar')\n",
    "    print('bax')\n",
    "elif x == 2 : \n",
    "    print('qux')\n",
    "    print('quxx')\n",
    "else: \n",
    "    print('corge')\n",
    "    print('grault')"
   ]
  },
  {
   "cell_type": "markdown",
   "id": "48ba6a62",
   "metadata": {},
   "source": [
    "# Conditional Expressions"
   ]
  },
  {
   "cell_type": "code",
   "execution_count": 61,
   "id": "0d90feaa",
   "metadata": {},
   "outputs": [
    {
     "name": "stdout",
     "output_type": "stream",
     "text": [
      "Let's go to the beach\n"
     ]
    }
   ],
   "source": [
    "raining = False\n",
    "\n",
    "print (\"Let's go to the\",\"beach\" if not raining else \"Library\")"
   ]
  },
  {
   "cell_type": "code",
   "execution_count": 62,
   "id": "c728fc9e",
   "metadata": {},
   "outputs": [
    {
     "name": "stdout",
     "output_type": "stream",
     "text": [
      "Let's go to the Library\n"
     ]
    }
   ],
   "source": [
    "raining = True\n",
    "\n",
    "print (\"Let's go to the\",\"beach\" if not raining else \"Library\")"
   ]
  },
  {
   "cell_type": "code",
   "execution_count": 63,
   "id": "c2fb5768",
   "metadata": {},
   "outputs": [],
   "source": [
    "age = 12"
   ]
  },
  {
   "cell_type": "code",
   "execution_count": null,
   "id": "4fee74f2",
   "metadata": {},
   "outputs": [],
   "source": []
  },
  {
   "cell_type": "code",
   "execution_count": null,
   "id": "a64b58ce",
   "metadata": {},
   "outputs": [],
   "source": []
  },
  {
   "cell_type": "code",
   "execution_count": null,
   "id": "d79faf1a",
   "metadata": {},
   "outputs": [],
   "source": []
  },
  {
   "cell_type": "code",
   "execution_count": null,
   "id": "0bfbee97",
   "metadata": {},
   "outputs": [],
   "source": []
  },
  {
   "cell_type": "code",
   "execution_count": null,
   "id": "168e2429",
   "metadata": {},
   "outputs": [],
   "source": []
  },
  {
   "cell_type": "code",
   "execution_count": null,
   "id": "e16f7889",
   "metadata": {},
   "outputs": [],
   "source": []
  },
  {
   "cell_type": "code",
   "execution_count": null,
   "id": "b52c6373",
   "metadata": {},
   "outputs": [],
   "source": []
  }
 ],
 "metadata": {
  "kernelspec": {
   "display_name": "Python 3 (ipykernel)",
   "language": "python",
   "name": "python3"
  },
  "language_info": {
   "codemirror_mode": {
    "name": "ipython",
    "version": 3
   },
   "file_extension": ".py",
   "mimetype": "text/x-python",
   "name": "python",
   "nbconvert_exporter": "python",
   "pygments_lexer": "ipython3",
   "version": "3.9.7"
  }
 },
 "nbformat": 4,
 "nbformat_minor": 5
}
