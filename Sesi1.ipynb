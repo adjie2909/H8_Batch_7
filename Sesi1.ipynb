{
 "cells": [
  {
   "cell_type": "markdown",
   "id": "8ce54482",
   "metadata": {},
   "source": [
    "Tipe Data"
   ]
  },
  {
   "cell_type": "code",
   "execution_count": 1,
   "id": "574c3a1e",
   "metadata": {},
   "outputs": [
    {
     "name": "stdout",
     "output_type": "stream",
     "text": [
      "123124\n"
     ]
    }
   ],
   "source": [
    "print (123123+1)"
   ]
  },
  {
   "cell_type": "code",
   "execution_count": 2,
   "id": "95bbd09b",
   "metadata": {},
   "outputs": [
    {
     "name": "stdout",
     "output_type": "stream",
     "text": [
      "<class 'int'>\n"
     ]
    }
   ],
   "source": [
    "print (type(10))"
   ]
  },
  {
   "cell_type": "code",
   "execution_count": 3,
   "id": "1cec9b07",
   "metadata": {},
   "outputs": [
    {
     "name": "stdout",
     "output_type": "stream",
     "text": [
      "<class 'float'>\n"
     ]
    }
   ],
   "source": [
    "print (type(10.0))"
   ]
  },
  {
   "cell_type": "code",
   "execution_count": 4,
   "id": "37d04829",
   "metadata": {},
   "outputs": [
    {
     "name": "stdout",
     "output_type": "stream",
     "text": [
      "hacktiv8\n",
      "<class 'str'>\n"
     ]
    }
   ],
   "source": [
    "print ('hacktiv8')\n",
    "print (type('hacktiv8'))"
   ]
  },
  {
   "cell_type": "code",
   "execution_count": 5,
   "id": "ee5a31c9",
   "metadata": {},
   "outputs": [
    {
     "name": "stdout",
     "output_type": "stream",
     "text": [
      "<class 'str'>\n"
     ]
    }
   ],
   "source": [
    "print (type('10'))"
   ]
  },
  {
   "cell_type": "code",
   "execution_count": 6,
   "id": "2ad53661",
   "metadata": {},
   "outputs": [
    {
     "name": "stdout",
     "output_type": "stream",
     "text": [
      "<class 'str'>\n"
     ]
    }
   ],
   "source": [
    "print (type(\"false\"))"
   ]
  },
  {
   "cell_type": "code",
   "execution_count": 8,
   "id": "753a887b",
   "metadata": {},
   "outputs": [
    {
     "name": "stdout",
     "output_type": "stream",
     "text": [
      "<class 'bool'>\n"
     ]
    }
   ],
   "source": [
    "print (type(False))"
   ]
  },
  {
   "cell_type": "markdown",
   "id": "039e4549",
   "metadata": {},
   "source": [
    "Variabel Assignment"
   ]
  },
  {
   "cell_type": "code",
   "execution_count": 9,
   "id": "719f8d71",
   "metadata": {},
   "outputs": [],
   "source": [
    "n = 330"
   ]
  },
  {
   "cell_type": "code",
   "execution_count": 10,
   "id": "94a1952a",
   "metadata": {},
   "outputs": [
    {
     "name": "stdout",
     "output_type": "stream",
     "text": [
      "330\n"
     ]
    }
   ],
   "source": [
    "print (n)"
   ]
  },
  {
   "cell_type": "code",
   "execution_count": 14,
   "id": "fe1f60db",
   "metadata": {},
   "outputs": [],
   "source": [
    "a = b = c = 200"
   ]
  },
  {
   "cell_type": "code",
   "execution_count": 15,
   "id": "3b57d7fb",
   "metadata": {},
   "outputs": [
    {
     "name": "stdout",
     "output_type": "stream",
     "text": [
      "200 200 200\n"
     ]
    }
   ],
   "source": [
    "print (a,b,c)"
   ]
  },
  {
   "cell_type": "code",
   "execution_count": 19,
   "id": "04e60e71",
   "metadata": {},
   "outputs": [
    {
     "name": "stdout",
     "output_type": "stream",
     "text": [
      "(6, 8, 10, 12, 14)\n"
     ]
    }
   ],
   "source": [
    "x = (2,4,6,8,10,12,14,16,18)\n",
    "print (x[2:7])"
   ]
  },
  {
   "cell_type": "markdown",
   "id": "379d6e50",
   "metadata": {},
   "source": [
    "List Python"
   ]
  },
  {
   "cell_type": "code",
   "execution_count": 20,
   "id": "5ddf061f",
   "metadata": {},
   "outputs": [],
   "source": [
    "a=['foo','bar','baz','qux']"
   ]
  },
  {
   "cell_type": "code",
   "execution_count": 21,
   "id": "ee1f3a81",
   "metadata": {},
   "outputs": [
    {
     "data": {
      "text/plain": [
       "['foo', 'bar', 'baz', 'qux']"
      ]
     },
     "execution_count": 21,
     "metadata": {},
     "output_type": "execute_result"
    }
   ],
   "source": [
    "a"
   ]
  },
  {
   "cell_type": "code",
   "execution_count": 22,
   "id": "075f6cc1",
   "metadata": {},
   "outputs": [
    {
     "data": {
      "text/plain": [
       "'foo'"
      ]
     },
     "execution_count": 22,
     "metadata": {},
     "output_type": "execute_result"
    }
   ],
   "source": [
    "a[0]"
   ]
  },
  {
   "cell_type": "code",
   "execution_count": 23,
   "id": "0cf98900",
   "metadata": {},
   "outputs": [
    {
     "data": {
      "text/plain": [
       "'bar'"
      ]
     },
     "execution_count": 23,
     "metadata": {},
     "output_type": "execute_result"
    }
   ],
   "source": [
    "a[1]"
   ]
  },
  {
   "cell_type": "code",
   "execution_count": 24,
   "id": "03dd775d",
   "metadata": {},
   "outputs": [
    {
     "data": {
      "text/plain": [
       "'baz'"
      ]
     },
     "execution_count": 24,
     "metadata": {},
     "output_type": "execute_result"
    }
   ],
   "source": [
    "a[2]"
   ]
  },
  {
   "cell_type": "code",
   "execution_count": 25,
   "id": "58cb45de",
   "metadata": {},
   "outputs": [
    {
     "data": {
      "text/plain": [
       "'qux'"
      ]
     },
     "execution_count": 25,
     "metadata": {},
     "output_type": "execute_result"
    }
   ],
   "source": [
    "a[3]"
   ]
  },
  {
   "cell_type": "code",
   "execution_count": 29,
   "id": "59371091",
   "metadata": {},
   "outputs": [],
   "source": [
    "a=['foo','bar','baz','qux']\n",
    "b=['bar','foo','baz','qux']"
   ]
  },
  {
   "cell_type": "code",
   "execution_count": 30,
   "id": "2e1557c3",
   "metadata": {},
   "outputs": [
    {
     "data": {
      "text/plain": [
       "False"
      ]
     },
     "execution_count": 30,
     "metadata": {},
     "output_type": "execute_result"
    }
   ],
   "source": [
    "a==b"
   ]
  },
  {
   "cell_type": "markdown",
   "id": "af84db20",
   "metadata": {},
   "source": [
    "Tuple"
   ]
  },
  {
   "cell_type": "code",
   "execution_count": 31,
   "id": "696fe91b",
   "metadata": {},
   "outputs": [
    {
     "name": "stdout",
     "output_type": "stream",
     "text": [
      "('foo', 'bar', 'baz', 'qux')\n"
     ]
    }
   ],
   "source": [
    "t =('foo','bar','baz','qux')\n",
    "print (t)"
   ]
  },
  {
   "cell_type": "markdown",
   "id": "fccaca31",
   "metadata": {},
   "source": [
    "Dictionary"
   ]
  },
  {
   "cell_type": "code",
   "execution_count": 34,
   "id": "c1e649cf",
   "metadata": {},
   "outputs": [],
   "source": [
    "MLB_team={\n",
    "    'Colorado':'Rockies',\n",
    "    'Boston':'Red Fox',\n",
    "    'Minnesota':'Twins',\n",
    "    'Milwaukee':'Brewers',\n",
    "    'Seattle':'Mariners'\n",
    "}"
   ]
  },
  {
   "cell_type": "code",
   "execution_count": 35,
   "id": "2bf23741",
   "metadata": {},
   "outputs": [
    {
     "data": {
      "text/plain": [
       "{'Colorado': 'Rockies',\n",
       " 'Boston': 'Red Fox',\n",
       " 'Minnesota': 'Twins',\n",
       " 'Milwaukee': 'Brewers',\n",
       " 'Seattle': 'Mariners'}"
      ]
     },
     "execution_count": 35,
     "metadata": {},
     "output_type": "execute_result"
    }
   ],
   "source": [
    "MLB_team"
   ]
  },
  {
   "cell_type": "code",
   "execution_count": 38,
   "id": "e6d7f883",
   "metadata": {},
   "outputs": [
    {
     "data": {
      "text/plain": [
       "'Rockies'"
      ]
     },
     "execution_count": 38,
     "metadata": {},
     "output_type": "execute_result"
    }
   ],
   "source": [
    "MLB_team['Colorado']"
   ]
  },
  {
   "cell_type": "code",
   "execution_count": 40,
   "id": "18b24c49",
   "metadata": {},
   "outputs": [],
   "source": [
    "MLB_team['kansas City']='Royals'"
   ]
  },
  {
   "cell_type": "code",
   "execution_count": 41,
   "id": "390cbb55",
   "metadata": {},
   "outputs": [
    {
     "data": {
      "text/plain": [
       "{'Colorado': 'Rockies',\n",
       " 'Boston': 'Red Fox',\n",
       " 'Minnesota': 'Twins',\n",
       " 'Milwaukee': 'Brewers',\n",
       " 'Seattle': 'Mariners',\n",
       " 'kansas City': 'Royals'}"
      ]
     },
     "execution_count": 41,
     "metadata": {},
     "output_type": "execute_result"
    }
   ],
   "source": [
    "MLB_team"
   ]
  },
  {
   "cell_type": "code",
   "execution_count": null,
   "id": "989b169b",
   "metadata": {},
   "outputs": [],
   "source": []
  }
 ],
 "metadata": {
  "kernelspec": {
   "display_name": "Python 3 (ipykernel)",
   "language": "python",
   "name": "python3"
  },
  "language_info": {
   "codemirror_mode": {
    "name": "ipython",
    "version": 3
   },
   "file_extension": ".py",
   "mimetype": "text/x-python",
   "name": "python",
   "nbconvert_exporter": "python",
   "pygments_lexer": "ipython3",
   "version": "3.9.7"
  }
 },
 "nbformat": 4,
 "nbformat_minor": 5
}
