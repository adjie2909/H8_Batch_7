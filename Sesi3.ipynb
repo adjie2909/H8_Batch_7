{
 "cells": [
  {
   "cell_type": "code",
   "execution_count": null,
   "id": "78f27cca",
   "metadata": {},
   "outputs": [],
   "source": [
    "def function_name(parameters):\n",
    "    statement"
   ]
  },
  {
   "cell_type": "code",
   "execution_count": 1,
   "id": "e317deaa",
   "metadata": {},
   "outputs": [],
   "source": [
    "def my_function(p, l):\n",
    "    \"function untuk menghitung luas\"\n",
    "    print(p*l)"
   ]
  },
  {
   "cell_type": "code",
   "execution_count": 2,
   "id": "7cd4ec74",
   "metadata": {},
   "outputs": [
    {
     "name": "stdout",
     "output_type": "stream",
     "text": [
      "8\n"
     ]
    }
   ],
   "source": [
    "my_function(2,4)"
   ]
  },
  {
   "cell_type": "code",
   "execution_count": 5,
   "id": "07e4ba36",
   "metadata": {},
   "outputs": [
    {
     "name": "stdout",
     "output_type": "stream",
     "text": [
      "50\n"
     ]
    }
   ],
   "source": [
    "my_function(5,10)"
   ]
  },
  {
   "cell_type": "code",
   "execution_count": 6,
   "id": "454b96d3",
   "metadata": {},
   "outputs": [],
   "source": [
    "def printme(str):\n",
    "    \"this is a passed string into this function\"\n",
    "    print(str)\n",
    "    return"
   ]
  },
  {
   "cell_type": "code",
   "execution_count": 7,
   "id": "a193f42d",
   "metadata": {},
   "outputs": [
    {
     "name": "stdout",
     "output_type": "stream",
     "text": [
      "this is trial\n"
     ]
    }
   ],
   "source": [
    "printme(\"this is trial\")"
   ]
  },
  {
   "cell_type": "markdown",
   "id": "5b05ea1f",
   "metadata": {},
   "source": [
    "# Pass by reference vs value"
   ]
  },
  {
   "cell_type": "code",
   "execution_count": 9,
   "id": "b0ac2371",
   "metadata": {},
   "outputs": [
    {
     "name": "stdout",
     "output_type": "stream",
     "text": [
      "value inside the function [10, 20, 30, [1, 2, 3, 4]]\n"
     ]
    }
   ],
   "source": [
    "def changeme(mylist):\n",
    "    mylist.append([1,2,3,4]);\n",
    "    print(\"value inside the function\", mylist)\n",
    "    return\n",
    "\n",
    "mylist=[10, 20, 30]\n",
    "changeme(mylist)"
   ]
  },
  {
   "cell_type": "code",
   "execution_count": 13,
   "id": "7592caff",
   "metadata": {},
   "outputs": [
    {
     "name": "stdout",
     "output_type": "stream",
     "text": [
      "value inside the function [1, 2, 3, 4]\n",
      "Values outside the function:  [10, 20, 30]\n"
     ]
    }
   ],
   "source": [
    "def changeme(mylist):\n",
    "    \n",
    "    mylist = [1, 2, 3, 4]\n",
    "    print(\"value inside the function\", mylist)\n",
    "    return\n",
    "\n",
    "mylist = [10, 20, 30];\n",
    "changeme(mylist);\n",
    "\n",
    "print(\"Values outside the function: \", mylist)"
   ]
  },
  {
   "cell_type": "code",
   "execution_count": 14,
   "id": "148816fd",
   "metadata": {},
   "outputs": [],
   "source": [
    "def my_function (p, l):\n",
    "    a = p*l\n",
    "    return a"
   ]
  },
  {
   "cell_type": "code",
   "execution_count": 15,
   "id": "af6f1bcd",
   "metadata": {},
   "outputs": [
    {
     "data": {
      "text/plain": [
       "20"
      ]
     },
     "execution_count": 15,
     "metadata": {},
     "output_type": "execute_result"
    }
   ],
   "source": [
    "my_function(2, 10)"
   ]
  },
  {
   "cell_type": "markdown",
   "id": "8a0a8fa0",
   "metadata": {},
   "source": [
    "# Function Arguments"
   ]
  },
  {
   "cell_type": "code",
   "execution_count": 17,
   "id": "c19c39a4",
   "metadata": {},
   "outputs": [
    {
     "name": "stdout",
     "output_type": "stream",
     "text": [
      "string\n"
     ]
    }
   ],
   "source": [
    "def printme(str):\n",
    "    print(str)\n",
    "    return;\n",
    "print(\"string\")"
   ]
  },
  {
   "cell_type": "code",
   "execution_count": 18,
   "id": "fdbca210",
   "metadata": {},
   "outputs": [
    {
     "name": "stdout",
     "output_type": "stream",
     "text": [
      "Hacktiv8\n"
     ]
    }
   ],
   "source": [
    "def printme(str):\n",
    "    print(str)\n",
    "    return;\n",
    "\n",
    "printme(str = \"Hacktiv8\")"
   ]
  },
  {
   "cell_type": "code",
   "execution_count": 19,
   "id": "a944bcb7",
   "metadata": {},
   "outputs": [
    {
     "name": "stdout",
     "output_type": "stream",
     "text": [
      "Name: Adjie\n",
      "Age: 20\n"
     ]
    }
   ],
   "source": [
    "def printinfo (name, age ):\n",
    "    \"this prints a passed info into this function\"\n",
    "    print(\"Name:\", name)\n",
    "    print(\"Age:\", age)\n",
    "    return;\n",
    "printinfo(\"Adjie\", 20)"
   ]
  },
  {
   "cell_type": "code",
   "execution_count": 20,
   "id": "5285768e",
   "metadata": {},
   "outputs": [
    {
     "name": "stdout",
     "output_type": "stream",
     "text": [
      "Name: Adjie\n",
      "Age: 10\n"
     ]
    }
   ],
   "source": [
    "printinfo(age=10, name=\"Adjie\")"
   ]
  },
  {
   "cell_type": "code",
   "execution_count": 23,
   "id": "c2377327",
   "metadata": {},
   "outputs": [
    {
     "name": "stdout",
     "output_type": "stream",
     "text": [
      "Name: 10\n",
      "Age: Yudha\n"
     ]
    }
   ],
   "source": [
    "printinfo(10, \"Yudha\")"
   ]
  },
  {
   "cell_type": "code",
   "execution_count": 24,
   "id": "6056f0d4",
   "metadata": {},
   "outputs": [
    {
     "ename": "TypeError",
     "evalue": "printinfo() missing 1 required positional argument: 'age'",
     "output_type": "error",
     "traceback": [
      "\u001b[1;31m---------------------------------------------------------------------------\u001b[0m",
      "\u001b[1;31mTypeError\u001b[0m                                 Traceback (most recent call last)",
      "\u001b[1;32m~\\AppData\\Local\\Temp/ipykernel_27004/454466448.py\u001b[0m in \u001b[0;36m<module>\u001b[1;34m\u001b[0m\n\u001b[1;32m----> 1\u001b[1;33m \u001b[0mprintinfo\u001b[0m\u001b[1;33m(\u001b[0m\u001b[1;34m\"Adjie\"\u001b[0m\u001b[1;33m)\u001b[0m\u001b[1;33m\u001b[0m\u001b[1;33m\u001b[0m\u001b[0m\n\u001b[0m",
      "\u001b[1;31mTypeError\u001b[0m: printinfo() missing 1 required positional argument: 'age'"
     ]
    }
   ],
   "source": [
    "printinfo(\"Adjie\")"
   ]
  },
  {
   "cell_type": "code",
   "execution_count": 26,
   "id": "3ab65f2f",
   "metadata": {},
   "outputs": [],
   "source": [
    "def printinfo (name, age = 20 ):\n",
    "    \"this prints a passed info into this function\"\n",
    "    print(\"Name:\", name)\n",
    "    print(\"Age:\", age)\n",
    "    return;\n"
   ]
  },
  {
   "cell_type": "code",
   "execution_count": 27,
   "id": "6d59977e",
   "metadata": {},
   "outputs": [
    {
     "name": "stdout",
     "output_type": "stream",
     "text": [
      "Name: Adjie\n",
      "Age: 20\n"
     ]
    }
   ],
   "source": [
    "printinfo(\"Adjie\")"
   ]
  },
  {
   "cell_type": "code",
   "execution_count": 30,
   "id": "7e5cee52",
   "metadata": {},
   "outputs": [
    {
     "name": "stdout",
     "output_type": "stream",
     "text": [
      "Output is: \n",
      "10\n",
      "Output is: \n",
      "70\n",
      "60\n",
      "50\n",
      "a\n"
     ]
    }
   ],
   "source": [
    "def printinfo(arg1, *vartuple):\n",
    "    print(\"Output is: \")\n",
    "    print(arg1)\n",
    "    for var in vartuple:\n",
    "        print(var)\n",
    "    return;\n",
    "\n",
    "printinfo(10)\n",
    "printinfo(70, 60, 50, \"a\")"
   ]
  },
  {
   "cell_type": "markdown",
   "id": "e8f83279",
   "metadata": {},
   "source": [
    "# the Anonymous Functions"
   ]
  },
  {
   "cell_type": "code",
   "execution_count": 31,
   "id": "c3e8e359",
   "metadata": {},
   "outputs": [],
   "source": [
    "sum = lambda arg1, arg2: arg1 + arg2"
   ]
  },
  {
   "cell_type": "code",
   "execution_count": 32,
   "id": "5b72aaf1",
   "metadata": {},
   "outputs": [
    {
     "data": {
      "text/plain": [
       "30"
      ]
     },
     "execution_count": 32,
     "metadata": {},
     "output_type": "execute_result"
    }
   ],
   "source": [
    "sum(10, 20)"
   ]
  },
  {
   "cell_type": "code",
   "execution_count": 33,
   "id": "8dfe445f",
   "metadata": {},
   "outputs": [],
   "source": [
    "def sum(arg1, arg2):\n",
    "    x = arg1 + arg2\n",
    "    return x"
   ]
  },
  {
   "cell_type": "code",
   "execution_count": 34,
   "id": "a29d1d83",
   "metadata": {},
   "outputs": [
    {
     "data": {
      "text/plain": [
       "40"
      ]
     },
     "execution_count": 34,
     "metadata": {},
     "output_type": "execute_result"
    }
   ],
   "source": [
    "sum(10, 30)"
   ]
  },
  {
   "cell_type": "markdown",
   "id": "1d7bfc16",
   "metadata": {},
   "source": [
    "# The Return Statement"
   ]
  },
  {
   "cell_type": "code",
   "execution_count": 37,
   "id": "b1091ac6",
   "metadata": {},
   "outputs": [
    {
     "name": "stdout",
     "output_type": "stream",
     "text": [
      "Inside the function 30\n",
      "Outside the function: 50\n"
     ]
    }
   ],
   "source": [
    "def sum(arg1, arg2):\n",
    "    total = arg1   + arg2\n",
    "    total2 = total + arg2\n",
    "    print(\"Inside the function\", total)\n",
    "    return total2\n",
    "\n",
    "total = sum(10, 20)\n",
    "print(\"Outside the function:\", total)"
   ]
  },
  {
   "cell_type": "code",
   "execution_count": 38,
   "id": "d701c11f",
   "metadata": {},
   "outputs": [
    {
     "name": "stdout",
     "output_type": "stream",
     "text": [
      "Inside the function 60\n"
     ]
    },
    {
     "data": {
      "text/plain": [
       "100"
      ]
     },
     "execution_count": 38,
     "metadata": {},
     "output_type": "execute_result"
    }
   ],
   "source": [
    "sum(20, 40)"
   ]
  },
  {
   "cell_type": "markdown",
   "id": "f89a53ef",
   "metadata": {},
   "source": [
    "# Scope of Variables"
   ]
  },
  {
   "cell_type": "code",
   "execution_count": 39,
   "id": "a1ad7dad",
   "metadata": {},
   "outputs": [],
   "source": [
    "a = 10"
   ]
  },
  {
   "cell_type": "code",
   "execution_count": 40,
   "id": "605b3980",
   "metadata": {},
   "outputs": [
    {
     "data": {
      "text/plain": [
       "10"
      ]
     },
     "execution_count": 40,
     "metadata": {},
     "output_type": "execute_result"
    }
   ],
   "source": [
    "a"
   ]
  },
  {
   "cell_type": "markdown",
   "id": "c03baafb",
   "metadata": {},
   "source": [
    "total = 0;\n",
    "\n",
    "def sum(arg)"
   ]
  },
  {
   "cell_type": "code",
   "execution_count": 49,
   "id": "492abd6b",
   "metadata": {},
   "outputs": [],
   "source": [
    "import mod"
   ]
  },
  {
   "cell_type": "code",
   "execution_count": 50,
   "id": "816d9b09",
   "metadata": {},
   "outputs": [
    {
     "data": {
      "text/plain": [
       "[100, 200, 300]"
      ]
     },
     "execution_count": 50,
     "metadata": {},
     "output_type": "execute_result"
    }
   ],
   "source": [
    "mod.a"
   ]
  },
  {
   "cell_type": "code",
   "execution_count": 51,
   "id": "f499f9c4",
   "metadata": {},
   "outputs": [
    {
     "name": "stdout",
     "output_type": "stream",
     "text": [
      "arg = ['quux', 'corge', 'grault']\n"
     ]
    }
   ],
   "source": [
    "mod.foo(['quux', 'corge', 'grault'])"
   ]
  },
  {
   "cell_type": "code",
   "execution_count": 52,
   "id": "0363a6a2",
   "metadata": {},
   "outputs": [
    {
     "data": {
      "text/plain": [
       "<mod.Foo at 0x280db0f7d00>"
      ]
     },
     "execution_count": 52,
     "metadata": {},
     "output_type": "execute_result"
    }
   ],
   "source": [
    "x = mod.Foo()\n",
    "x"
   ]
  },
  {
   "cell_type": "markdown",
   "id": "7ef714e7",
   "metadata": {},
   "source": [
    "# The Module Search Path"
   ]
  },
  {
   "cell_type": "code",
   "execution_count": 53,
   "id": "14e648ac",
   "metadata": {},
   "outputs": [],
   "source": [
    "import mod"
   ]
  },
  {
   "cell_type": "code",
   "execution_count": 54,
   "id": "534c3ada",
   "metadata": {},
   "outputs": [
    {
     "data": {
      "text/plain": [
       "['C:\\\\Projek Saya\\\\Kampus Merdeka - Hacktiv8\\\\Jupyter Notebook\\\\KS-07',\n",
       " 'C:\\\\Users\\\\adjie\\\\anaconda3\\\\python39.zip',\n",
       " 'C:\\\\Users\\\\adjie\\\\anaconda3\\\\DLLs',\n",
       " 'C:\\\\Users\\\\adjie\\\\anaconda3\\\\lib',\n",
       " 'C:\\\\Users\\\\adjie\\\\anaconda3',\n",
       " '',\n",
       " 'C:\\\\Users\\\\adjie\\\\anaconda3\\\\lib\\\\site-packages',\n",
       " 'C:\\\\Users\\\\adjie\\\\anaconda3\\\\lib\\\\site-packages\\\\locket-0.2.1-py3.9.egg',\n",
       " 'C:\\\\Users\\\\adjie\\\\anaconda3\\\\lib\\\\site-packages\\\\win32',\n",
       " 'C:\\\\Users\\\\adjie\\\\anaconda3\\\\lib\\\\site-packages\\\\win32\\\\lib',\n",
       " 'C:\\\\Users\\\\adjie\\\\anaconda3\\\\lib\\\\site-packages\\\\Pythonwin',\n",
       " 'C:\\\\Users\\\\adjie\\\\anaconda3\\\\lib\\\\site-packages\\\\IPython\\\\extensions',\n",
       " 'C:\\\\Users\\\\adjie\\\\.ipython']"
      ]
     },
     "execution_count": 54,
     "metadata": {},
     "output_type": "execute_result"
    }
   ],
   "source": [
    "import sys\n",
    "sys.path"
   ]
  },
  {
   "cell_type": "code",
   "execution_count": 55,
   "id": "41f6d1ac",
   "metadata": {},
   "outputs": [
    {
     "data": {
      "text/plain": [
       "<module 'mod' from 'C:\\\\Projek Saya\\\\Kampus Merdeka - Hacktiv8\\\\Jupyter Notebook\\\\KS-07\\\\mod.py'>"
      ]
     },
     "execution_count": 55,
     "metadata": {},
     "output_type": "execute_result"
    }
   ],
   "source": [
    "mod"
   ]
  },
  {
   "cell_type": "code",
   "execution_count": 56,
   "id": "8cdb4e70",
   "metadata": {},
   "outputs": [
    {
     "data": {
      "text/plain": [
       "'Hacktiv8-PTP Python for Data Science'"
      ]
     },
     "execution_count": 56,
     "metadata": {},
     "output_type": "execute_result"
    }
   ],
   "source": [
    "mod.s"
   ]
  },
  {
   "cell_type": "code",
   "execution_count": 58,
   "id": "23f6e73b",
   "metadata": {},
   "outputs": [
    {
     "name": "stdout",
     "output_type": "stream",
     "text": [
      "arg = quux\n"
     ]
    }
   ],
   "source": [
    "mod.foo('quux')"
   ]
  },
  {
   "cell_type": "code",
   "execution_count": 59,
   "id": "cc0961db",
   "metadata": {},
   "outputs": [],
   "source": [
    "import matplotlib"
   ]
  },
  {
   "cell_type": "code",
   "execution_count": 60,
   "id": "f59ce983",
   "metadata": {},
   "outputs": [],
   "source": [
    "from matplotlib import pyplot"
   ]
  },
  {
   "cell_type": "code",
   "execution_count": 61,
   "id": "2ef09830",
   "metadata": {},
   "outputs": [],
   "source": [
    "from mod import s, foo"
   ]
  },
  {
   "cell_type": "code",
   "execution_count": 62,
   "id": "0a75f523",
   "metadata": {},
   "outputs": [
    {
     "data": {
      "text/plain": [
       "'Hacktiv8-PTP Python for Data Science'"
      ]
     },
     "execution_count": 62,
     "metadata": {},
     "output_type": "execute_result"
    }
   ],
   "source": [
    "s"
   ]
  },
  {
   "cell_type": "code",
   "execution_count": 63,
   "id": "488345d6",
   "metadata": {},
   "outputs": [
    {
     "data": {
      "text/plain": [
       "<function mod.foo(arg)>"
      ]
     },
     "execution_count": 63,
     "metadata": {},
     "output_type": "execute_result"
    }
   ],
   "source": [
    "foo"
   ]
  },
  {
   "cell_type": "code",
   "execution_count": 64,
   "id": "3e958f56",
   "metadata": {},
   "outputs": [],
   "source": [
    "from mod import *"
   ]
  },
  {
   "cell_type": "code",
   "execution_count": 65,
   "id": "20165b0a",
   "metadata": {},
   "outputs": [
    {
     "data": {
      "text/plain": [
       "'Hacktiv8-PTP Python for Data Science'"
      ]
     },
     "execution_count": 65,
     "metadata": {},
     "output_type": "execute_result"
    }
   ],
   "source": [
    "s"
   ]
  },
  {
   "cell_type": "code",
   "execution_count": 66,
   "id": "7ee45b0b",
   "metadata": {},
   "outputs": [],
   "source": [
    "from mod import s as qukquk"
   ]
  },
  {
   "cell_type": "code",
   "execution_count": 67,
   "id": "6cbbdfd1",
   "metadata": {},
   "outputs": [
    {
     "data": {
      "text/plain": [
       "'Hacktiv8-PTP Python for Data Science'"
      ]
     },
     "execution_count": 67,
     "metadata": {},
     "output_type": "execute_result"
    }
   ],
   "source": [
    "qukquk"
   ]
  },
  {
   "cell_type": "code",
   "execution_count": 68,
   "id": "299f64fa",
   "metadata": {},
   "outputs": [],
   "source": [
    "import mod as my_module"
   ]
  },
  {
   "cell_type": "code",
   "execution_count": 70,
   "id": "26cfa2fe",
   "metadata": {},
   "outputs": [
    {
     "name": "stdout",
     "output_type": "stream",
     "text": [
      "arg = x\n"
     ]
    }
   ],
   "source": [
    "my_module.foo(\"x\")"
   ]
  },
  {
   "cell_type": "code",
   "execution_count": 71,
   "id": "ce7a93ab",
   "metadata": {},
   "outputs": [],
   "source": [
    "def bar():\n",
    "    from mod import foo\n",
    "    foo('corge')"
   ]
  },
  {
   "cell_type": "code",
   "execution_count": 72,
   "id": "77170e0e",
   "metadata": {},
   "outputs": [
    {
     "name": "stdout",
     "output_type": "stream",
     "text": [
      "arg = corge\n"
     ]
    }
   ],
   "source": [
    "bar()"
   ]
  },
  {
   "cell_type": "code",
   "execution_count": 74,
   "id": "db5c0be8",
   "metadata": {},
   "outputs": [
    {
     "ename": "ModuleNotFoundError",
     "evalue": "No module named 'baz'",
     "output_type": "error",
     "traceback": [
      "\u001b[1;31m---------------------------------------------------------------------------\u001b[0m",
      "\u001b[1;31mModuleNotFoundError\u001b[0m                       Traceback (most recent call last)",
      "\u001b[1;32m~\\AppData\\Local\\Temp/ipykernel_27004/950106985.py\u001b[0m in \u001b[0;36m<module>\u001b[1;34m\u001b[0m\n\u001b[1;32m----> 1\u001b[1;33m \u001b[1;32mimport\u001b[0m \u001b[0mbaz\u001b[0m\u001b[1;33m\u001b[0m\u001b[1;33m\u001b[0m\u001b[0m\n\u001b[0m",
      "\u001b[1;31mModuleNotFoundError\u001b[0m: No module named 'baz'"
     ]
    }
   ],
   "source": [
    "import baz"
   ]
  },
  {
   "cell_type": "code",
   "execution_count": 76,
   "id": "7272cb39",
   "metadata": {},
   "outputs": [
    {
     "name": "stdout",
     "output_type": "stream",
     "text": [
      "Module not found\n"
     ]
    }
   ],
   "source": [
    "try:\n",
    "    import baz\n",
    "except ImportError:\n",
    "    print(\"Module not found\")"
   ]
  },
  {
   "cell_type": "markdown",
   "id": "cd487090",
   "metadata": {},
   "source": [
    "# dir() function"
   ]
  },
  {
   "cell_type": "code",
   "execution_count": 77,
   "id": "517dd4a5",
   "metadata": {},
   "outputs": [
    {
     "data": {
      "text/plain": [
       "['Foo',\n",
       " 'In',\n",
       " 'JumlahHewan',\n",
       " 'JumlahKelinci',\n",
       " 'JumlahKucing',\n",
       " 'Out',\n",
       " '_',\n",
       " '_15',\n",
       " '_32',\n",
       " '_34',\n",
       " '_38',\n",
       " '_40',\n",
       " '_42',\n",
       " '_45',\n",
       " '_46',\n",
       " '_47',\n",
       " '_50',\n",
       " '_52',\n",
       " '_54',\n",
       " '_55',\n",
       " '_56',\n",
       " '_57',\n",
       " '_62',\n",
       " '_63',\n",
       " '_65',\n",
       " '_67',\n",
       " '__',\n",
       " '___',\n",
       " '__builtin__',\n",
       " '__builtins__',\n",
       " '__doc__',\n",
       " '__loader__',\n",
       " '__name__',\n",
       " '__package__',\n",
       " '__spec__',\n",
       " '_dh',\n",
       " '_i',\n",
       " '_i1',\n",
       " '_i10',\n",
       " '_i11',\n",
       " '_i12',\n",
       " '_i13',\n",
       " '_i14',\n",
       " '_i15',\n",
       " '_i16',\n",
       " '_i17',\n",
       " '_i18',\n",
       " '_i19',\n",
       " '_i2',\n",
       " '_i20',\n",
       " '_i21',\n",
       " '_i22',\n",
       " '_i23',\n",
       " '_i24',\n",
       " '_i25',\n",
       " '_i26',\n",
       " '_i27',\n",
       " '_i28',\n",
       " '_i29',\n",
       " '_i3',\n",
       " '_i30',\n",
       " '_i31',\n",
       " '_i32',\n",
       " '_i33',\n",
       " '_i34',\n",
       " '_i35',\n",
       " '_i36',\n",
       " '_i37',\n",
       " '_i38',\n",
       " '_i39',\n",
       " '_i4',\n",
       " '_i40',\n",
       " '_i41',\n",
       " '_i42',\n",
       " '_i43',\n",
       " '_i44',\n",
       " '_i45',\n",
       " '_i46',\n",
       " '_i47',\n",
       " '_i48',\n",
       " '_i49',\n",
       " '_i5',\n",
       " '_i50',\n",
       " '_i51',\n",
       " '_i52',\n",
       " '_i53',\n",
       " '_i54',\n",
       " '_i55',\n",
       " '_i56',\n",
       " '_i57',\n",
       " '_i58',\n",
       " '_i59',\n",
       " '_i6',\n",
       " '_i60',\n",
       " '_i61',\n",
       " '_i62',\n",
       " '_i63',\n",
       " '_i64',\n",
       " '_i65',\n",
       " '_i66',\n",
       " '_i67',\n",
       " '_i68',\n",
       " '_i69',\n",
       " '_i7',\n",
       " '_i70',\n",
       " '_i71',\n",
       " '_i72',\n",
       " '_i73',\n",
       " '_i74',\n",
       " '_i75',\n",
       " '_i76',\n",
       " '_i77',\n",
       " '_i8',\n",
       " '_i9',\n",
       " '_ih',\n",
       " '_ii',\n",
       " '_iii',\n",
       " '_oh',\n",
       " 'a',\n",
       " 'bar',\n",
       " 'changeme',\n",
       " 'exit',\n",
       " 'foo',\n",
       " 'functionname',\n",
       " 'get_ipython',\n",
       " 'matplotlib',\n",
       " 'mod',\n",
       " 'my_function',\n",
       " 'my_module',\n",
       " 'mylist',\n",
       " 'printinfo',\n",
       " 'printme',\n",
       " 'pyplot',\n",
       " 'quit',\n",
       " 'qukquk',\n",
       " 's',\n",
       " 'sum',\n",
       " 'sys',\n",
       " 'total',\n",
       " 'x']"
      ]
     },
     "execution_count": 77,
     "metadata": {},
     "output_type": "execute_result"
    }
   ],
   "source": [
    "dir()"
   ]
  },
  {
   "cell_type": "code",
   "execution_count": 78,
   "id": "d706b596",
   "metadata": {},
   "outputs": [],
   "source": [
    "qux=[1,2,3,4,5]"
   ]
  },
  {
   "cell_type": "code",
   "execution_count": 79,
   "id": "ec4292a7",
   "metadata": {},
   "outputs": [
    {
     "data": {
      "text/plain": [
       "['Foo',\n",
       " 'In',\n",
       " 'JumlahHewan',\n",
       " 'JumlahKelinci',\n",
       " 'JumlahKucing',\n",
       " 'Out',\n",
       " '_',\n",
       " '_15',\n",
       " '_32',\n",
       " '_34',\n",
       " '_38',\n",
       " '_40',\n",
       " '_42',\n",
       " '_45',\n",
       " '_46',\n",
       " '_47',\n",
       " '_50',\n",
       " '_52',\n",
       " '_54',\n",
       " '_55',\n",
       " '_56',\n",
       " '_57',\n",
       " '_62',\n",
       " '_63',\n",
       " '_65',\n",
       " '_67',\n",
       " '_77',\n",
       " '__',\n",
       " '___',\n",
       " '__builtin__',\n",
       " '__builtins__',\n",
       " '__doc__',\n",
       " '__loader__',\n",
       " '__name__',\n",
       " '__package__',\n",
       " '__spec__',\n",
       " '_dh',\n",
       " '_i',\n",
       " '_i1',\n",
       " '_i10',\n",
       " '_i11',\n",
       " '_i12',\n",
       " '_i13',\n",
       " '_i14',\n",
       " '_i15',\n",
       " '_i16',\n",
       " '_i17',\n",
       " '_i18',\n",
       " '_i19',\n",
       " '_i2',\n",
       " '_i20',\n",
       " '_i21',\n",
       " '_i22',\n",
       " '_i23',\n",
       " '_i24',\n",
       " '_i25',\n",
       " '_i26',\n",
       " '_i27',\n",
       " '_i28',\n",
       " '_i29',\n",
       " '_i3',\n",
       " '_i30',\n",
       " '_i31',\n",
       " '_i32',\n",
       " '_i33',\n",
       " '_i34',\n",
       " '_i35',\n",
       " '_i36',\n",
       " '_i37',\n",
       " '_i38',\n",
       " '_i39',\n",
       " '_i4',\n",
       " '_i40',\n",
       " '_i41',\n",
       " '_i42',\n",
       " '_i43',\n",
       " '_i44',\n",
       " '_i45',\n",
       " '_i46',\n",
       " '_i47',\n",
       " '_i48',\n",
       " '_i49',\n",
       " '_i5',\n",
       " '_i50',\n",
       " '_i51',\n",
       " '_i52',\n",
       " '_i53',\n",
       " '_i54',\n",
       " '_i55',\n",
       " '_i56',\n",
       " '_i57',\n",
       " '_i58',\n",
       " '_i59',\n",
       " '_i6',\n",
       " '_i60',\n",
       " '_i61',\n",
       " '_i62',\n",
       " '_i63',\n",
       " '_i64',\n",
       " '_i65',\n",
       " '_i66',\n",
       " '_i67',\n",
       " '_i68',\n",
       " '_i69',\n",
       " '_i7',\n",
       " '_i70',\n",
       " '_i71',\n",
       " '_i72',\n",
       " '_i73',\n",
       " '_i74',\n",
       " '_i75',\n",
       " '_i76',\n",
       " '_i77',\n",
       " '_i78',\n",
       " '_i79',\n",
       " '_i8',\n",
       " '_i9',\n",
       " '_ih',\n",
       " '_ii',\n",
       " '_iii',\n",
       " '_oh',\n",
       " 'a',\n",
       " 'bar',\n",
       " 'changeme',\n",
       " 'exit',\n",
       " 'foo',\n",
       " 'functionname',\n",
       " 'get_ipython',\n",
       " 'matplotlib',\n",
       " 'mod',\n",
       " 'my_function',\n",
       " 'my_module',\n",
       " 'mylist',\n",
       " 'printinfo',\n",
       " 'printme',\n",
       " 'pyplot',\n",
       " 'quit',\n",
       " 'qukquk',\n",
       " 'qux',\n",
       " 's',\n",
       " 'sum',\n",
       " 'sys',\n",
       " 'total',\n",
       " 'x']"
      ]
     },
     "execution_count": 79,
     "metadata": {},
     "output_type": "execute_result"
    }
   ],
   "source": [
    "dir()"
   ]
  },
  {
   "cell_type": "code",
   "execution_count": 81,
   "id": "07482644",
   "metadata": {},
   "outputs": [],
   "source": [
    "import mod"
   ]
  },
  {
   "cell_type": "code",
   "execution_count": 82,
   "id": "8853831f",
   "metadata": {},
   "outputs": [
    {
     "data": {
      "text/plain": [
       "['Foo',\n",
       " '__builtins__',\n",
       " '__cached__',\n",
       " '__doc__',\n",
       " '__file__',\n",
       " '__loader__',\n",
       " '__name__',\n",
       " '__package__',\n",
       " '__spec__',\n",
       " 'a',\n",
       " 'foo',\n",
       " 's']"
      ]
     },
     "execution_count": 82,
     "metadata": {},
     "output_type": "execute_result"
    }
   ],
   "source": [
    "dir(mod)"
   ]
  },
  {
   "cell_type": "code",
   "execution_count": 83,
   "id": "9b022a70",
   "metadata": {},
   "outputs": [],
   "source": [
    "import pandas"
   ]
  },
  {
   "cell_type": "code",
   "execution_count": 84,
   "id": "fc3f8fcd",
   "metadata": {},
   "outputs": [
    {
     "data": {
      "text/plain": [
       "['BooleanDtype',\n",
       " 'Categorical',\n",
       " 'CategoricalDtype',\n",
       " 'CategoricalIndex',\n",
       " 'DataFrame',\n",
       " 'DateOffset',\n",
       " 'DatetimeIndex',\n",
       " 'DatetimeTZDtype',\n",
       " 'ExcelFile',\n",
       " 'ExcelWriter',\n",
       " 'Flags',\n",
       " 'Float32Dtype',\n",
       " 'Float64Dtype',\n",
       " 'Float64Index',\n",
       " 'Grouper',\n",
       " 'HDFStore',\n",
       " 'Index',\n",
       " 'IndexSlice',\n",
       " 'Int16Dtype',\n",
       " 'Int32Dtype',\n",
       " 'Int64Dtype',\n",
       " 'Int64Index',\n",
       " 'Int8Dtype',\n",
       " 'Interval',\n",
       " 'IntervalDtype',\n",
       " 'IntervalIndex',\n",
       " 'MultiIndex',\n",
       " 'NA',\n",
       " 'NaT',\n",
       " 'NamedAgg',\n",
       " 'Period',\n",
       " 'PeriodDtype',\n",
       " 'PeriodIndex',\n",
       " 'RangeIndex',\n",
       " 'Series',\n",
       " 'SparseDtype',\n",
       " 'StringDtype',\n",
       " 'Timedelta',\n",
       " 'TimedeltaIndex',\n",
       " 'Timestamp',\n",
       " 'UInt16Dtype',\n",
       " 'UInt32Dtype',\n",
       " 'UInt64Dtype',\n",
       " 'UInt64Index',\n",
       " 'UInt8Dtype',\n",
       " '__builtins__',\n",
       " '__cached__',\n",
       " '__doc__',\n",
       " '__docformat__',\n",
       " '__file__',\n",
       " '__getattr__',\n",
       " '__git_version__',\n",
       " '__loader__',\n",
       " '__name__',\n",
       " '__package__',\n",
       " '__path__',\n",
       " '__spec__',\n",
       " '__version__',\n",
       " '_config',\n",
       " '_hashtable',\n",
       " '_is_numpy_dev',\n",
       " '_lib',\n",
       " '_libs',\n",
       " '_np_version_under1p18',\n",
       " '_testing',\n",
       " '_tslib',\n",
       " '_typing',\n",
       " '_version',\n",
       " 'api',\n",
       " 'array',\n",
       " 'arrays',\n",
       " 'bdate_range',\n",
       " 'compat',\n",
       " 'concat',\n",
       " 'core',\n",
       " 'crosstab',\n",
       " 'cut',\n",
       " 'date_range',\n",
       " 'describe_option',\n",
       " 'errors',\n",
       " 'eval',\n",
       " 'factorize',\n",
       " 'get_dummies',\n",
       " 'get_option',\n",
       " 'infer_freq',\n",
       " 'interval_range',\n",
       " 'io',\n",
       " 'isna',\n",
       " 'isnull',\n",
       " 'json_normalize',\n",
       " 'lreshape',\n",
       " 'melt',\n",
       " 'merge',\n",
       " 'merge_asof',\n",
       " 'merge_ordered',\n",
       " 'notna',\n",
       " 'notnull',\n",
       " 'offsets',\n",
       " 'option_context',\n",
       " 'options',\n",
       " 'pandas',\n",
       " 'period_range',\n",
       " 'pivot',\n",
       " 'pivot_table',\n",
       " 'plotting',\n",
       " 'qcut',\n",
       " 'read_clipboard',\n",
       " 'read_csv',\n",
       " 'read_excel',\n",
       " 'read_feather',\n",
       " 'read_fwf',\n",
       " 'read_gbq',\n",
       " 'read_hdf',\n",
       " 'read_html',\n",
       " 'read_json',\n",
       " 'read_orc',\n",
       " 'read_parquet',\n",
       " 'read_pickle',\n",
       " 'read_sas',\n",
       " 'read_spss',\n",
       " 'read_sql',\n",
       " 'read_sql_query',\n",
       " 'read_sql_table',\n",
       " 'read_stata',\n",
       " 'read_table',\n",
       " 'read_xml',\n",
       " 'reset_option',\n",
       " 'set_eng_float_format',\n",
       " 'set_option',\n",
       " 'show_versions',\n",
       " 'test',\n",
       " 'testing',\n",
       " 'timedelta_range',\n",
       " 'to_datetime',\n",
       " 'to_numeric',\n",
       " 'to_pickle',\n",
       " 'to_timedelta',\n",
       " 'tseries',\n",
       " 'unique',\n",
       " 'util',\n",
       " 'value_counts',\n",
       " 'wide_to_long']"
      ]
     },
     "execution_count": 84,
     "metadata": {},
     "output_type": "execute_result"
    }
   ],
   "source": [
    "dir(pandas)"
   ]
  },
  {
   "cell_type": "code",
   "execution_count": 85,
   "id": "7600b52f",
   "metadata": {},
   "outputs": [],
   "source": [
    "import mod"
   ]
  },
  {
   "cell_type": "code",
   "execution_count": 86,
   "id": "28f2084b",
   "metadata": {},
   "outputs": [],
   "source": [
    "from fact import fact"
   ]
  },
  {
   "cell_type": "code",
   "execution_count": 87,
   "id": "884f9423",
   "metadata": {},
   "outputs": [
    {
     "data": {
      "text/plain": [
       "720"
      ]
     },
     "execution_count": 87,
     "metadata": {},
     "output_type": "execute_result"
    }
   ],
   "source": [
    "fact(6)"
   ]
  },
  {
   "cell_type": "code",
   "execution_count": 88,
   "id": "d94092c0",
   "metadata": {},
   "outputs": [],
   "source": [
    "import mod"
   ]
  },
  {
   "cell_type": "code",
   "execution_count": 89,
   "id": "86fdc52a",
   "metadata": {},
   "outputs": [
    {
     "data": {
      "text/plain": [
       "[100, 200, 300]"
      ]
     },
     "execution_count": 89,
     "metadata": {},
     "output_type": "execute_result"
    }
   ],
   "source": [
    "mod.a"
   ]
  },
  {
   "cell_type": "code",
   "execution_count": 90,
   "id": "6b1f6dc8",
   "metadata": {},
   "outputs": [],
   "source": [
    "import importlib"
   ]
  },
  {
   "cell_type": "code",
   "execution_count": 91,
   "id": "7a00ba60",
   "metadata": {},
   "outputs": [
    {
     "data": {
      "text/plain": [
       "<module 'mod' from 'C:\\\\Projek Saya\\\\Kampus Merdeka - Hacktiv8\\\\Jupyter Notebook\\\\KS-07\\\\mod.py'>"
      ]
     },
     "execution_count": 91,
     "metadata": {},
     "output_type": "execute_result"
    }
   ],
   "source": [
    "importlib.reload(mod)"
   ]
  },
  {
   "cell_type": "code",
   "execution_count": null,
   "id": "7cd48dc3",
   "metadata": {},
   "outputs": [],
   "source": [
    "def foo():\n",
    "    print('[mod1]')"
   ]
  },
  {
   "cell_type": "markdown",
   "id": "09501b9b",
   "metadata": {},
   "source": [
    "# Python Packages"
   ]
  },
  {
   "cell_type": "code",
   "execution_count": 1,
   "id": "24a69a71",
   "metadata": {},
   "outputs": [
    {
     "ename": "ModuleNotFoundError",
     "evalue": "No module named 'pkg.mod1'",
     "output_type": "error",
     "traceback": [
      "\u001b[1;31m---------------------------------------------------------------------------\u001b[0m",
      "\u001b[1;31mModuleNotFoundError\u001b[0m                       Traceback (most recent call last)",
      "\u001b[1;32m~\\AppData\\Local\\Temp/ipykernel_15952/3862330839.py\u001b[0m in \u001b[0;36m<module>\u001b[1;34m\u001b[0m\n\u001b[1;32m----> 1\u001b[1;33m \u001b[1;32mimport\u001b[0m \u001b[0mpkg\u001b[0m\u001b[1;33m.\u001b[0m\u001b[0mmod1\u001b[0m\u001b[1;33m,\u001b[0m \u001b[0mpkg\u001b[0m\u001b[1;33m.\u001b[0m\u001b[0mmod2\u001b[0m\u001b[1;33m\u001b[0m\u001b[1;33m\u001b[0m\u001b[0m\n\u001b[0m",
      "\u001b[1;31mModuleNotFoundError\u001b[0m: No module named 'pkg.mod1'"
     ]
    }
   ],
   "source": [
    "import pkg.mod1, pkg.mod2"
   ]
  },
  {
   "cell_type": "code",
   "execution_count": 2,
   "id": "7a5f4405",
   "metadata": {},
   "outputs": [
    {
     "ename": "NameError",
     "evalue": "name 'mod1' is not defined",
     "output_type": "error",
     "traceback": [
      "\u001b[1;31m---------------------------------------------------------------------------\u001b[0m",
      "\u001b[1;31mNameError\u001b[0m                                 Traceback (most recent call last)",
      "\u001b[1;32m~\\AppData\\Local\\Temp/ipykernel_15952/3216861619.py\u001b[0m in \u001b[0;36m<module>\u001b[1;34m\u001b[0m\n\u001b[1;32m----> 1\u001b[1;33m \u001b[0mmod1\u001b[0m\u001b[1;33m.\u001b[0m\u001b[0mFoo\u001b[0m\u001b[1;33m(\u001b[0m\u001b[1;33m)\u001b[0m\u001b[1;33m\u001b[0m\u001b[1;33m\u001b[0m\u001b[0m\n\u001b[0m",
      "\u001b[1;31mNameError\u001b[0m: name 'mod1' is not defined"
     ]
    }
   ],
   "source": [
    "mod1.Foo()"
   ]
  },
  {
   "cell_type": "code",
   "execution_count": 3,
   "id": "7d9f6e19",
   "metadata": {},
   "outputs": [
    {
     "ename": "NameError",
     "evalue": "name 'pkg' is not defined",
     "output_type": "error",
     "traceback": [
      "\u001b[1;31m---------------------------------------------------------------------------\u001b[0m",
      "\u001b[1;31mNameError\u001b[0m                                 Traceback (most recent call last)",
      "\u001b[1;32m~\\AppData\\Local\\Temp/ipykernel_15952/1172521630.py\u001b[0m in \u001b[0;36m<module>\u001b[1;34m\u001b[0m\n\u001b[1;32m----> 1\u001b[1;33m \u001b[0mpkg\u001b[0m\u001b[1;33m.\u001b[0m\u001b[0mmod1\u001b[0m\u001b[1;33m.\u001b[0m\u001b[0mFoo\u001b[0m\u001b[1;33m(\u001b[0m\u001b[1;33m)\u001b[0m\u001b[1;33m\u001b[0m\u001b[1;33m\u001b[0m\u001b[0m\n\u001b[0m",
      "\u001b[1;31mNameError\u001b[0m: name 'pkg' is not defined"
     ]
    }
   ],
   "source": [
    "pkg.mod1.Foo()"
   ]
  },
  {
   "cell_type": "code",
   "execution_count": 99,
   "id": "f21912ed",
   "metadata": {},
   "outputs": [
    {
     "name": "stdout",
     "output_type": "stream",
     "text": [
      "Collecting pkg\n",
      "  Downloading pkg-0.2-py3-none-any.whl (15 kB)\n",
      "Installing collected packages: pkg\n",
      "Successfully installed pkg-0.2\n",
      "Note: you may need to restart the kernel to use updated packages.\n"
     ]
    }
   ],
   "source": [
    "pip install pkg"
   ]
  },
  {
   "cell_type": "code",
   "execution_count": null,
   "id": "cda18715",
   "metadata": {},
   "outputs": [],
   "source": []
  },
  {
   "cell_type": "code",
   "execution_count": null,
   "id": "f6de63c8",
   "metadata": {},
   "outputs": [],
   "source": []
  },
  {
   "cell_type": "code",
   "execution_count": null,
   "id": "9deb0ad4",
   "metadata": {},
   "outputs": [],
   "source": []
  },
  {
   "cell_type": "code",
   "execution_count": null,
   "id": "b088a00c",
   "metadata": {},
   "outputs": [],
   "source": []
  },
  {
   "cell_type": "code",
   "execution_count": null,
   "id": "b315fec3",
   "metadata": {},
   "outputs": [],
   "source": []
  },
  {
   "cell_type": "code",
   "execution_count": null,
   "id": "8e7ce9d4",
   "metadata": {},
   "outputs": [],
   "source": []
  },
  {
   "cell_type": "code",
   "execution_count": null,
   "id": "c87f9870",
   "metadata": {},
   "outputs": [],
   "source": []
  },
  {
   "cell_type": "code",
   "execution_count": null,
   "id": "f168e322",
   "metadata": {},
   "outputs": [],
   "source": []
  },
  {
   "cell_type": "code",
   "execution_count": null,
   "id": "a21e0a8a",
   "metadata": {},
   "outputs": [],
   "source": []
  },
  {
   "cell_type": "code",
   "execution_count": null,
   "id": "bbac55ef",
   "metadata": {},
   "outputs": [],
   "source": []
  }
 ],
 "metadata": {
  "kernelspec": {
   "display_name": "Python 3 (ipykernel)",
   "language": "python",
   "name": "python3"
  },
  "language_info": {
   "codemirror_mode": {
    "name": "ipython",
    "version": 3
   },
   "file_extension": ".py",
   "mimetype": "text/x-python",
   "name": "python",
   "nbconvert_exporter": "python",
   "pygments_lexer": "ipython3",
   "version": "3.9.7"
  }
 },
 "nbformat": 4,
 "nbformat_minor": 5
}
